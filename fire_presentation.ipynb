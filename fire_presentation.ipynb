{
  "cells": [
    {
      "cell_type": "raw",
      "metadata": {},
      "source": [
        "---\n",
        "title: 계절별 화재발생 빈도 및 요인 분석\n",
        "author: '명예소방관 시켜조 : 안상후, 오서연, 김주영, 김재희'\n",
        "format: html\n",
        "editor: visual\n",
        "---"
      ],
      "id": "617f4c5a"
    },
    {
      "cell_type": "markdown",
      "metadata": {},
      "source": [
        "## 계절별 화재발생 빈도\n",
        "\n",
        "### <데이터 설명>\n"
      ],
      "id": "b854be0f"
    },
    {
      "cell_type": "code",
      "metadata": {},
      "source": [
        "import pandas as pd\n",
        "import numpy as np\n",
        "df = pd.read_csv(\"data/fire.csv\")\n",
        "df.head()"
      ],
      "id": "bcaa58b7",
      "execution_count": null,
      "outputs": []
    },
    {
      "cell_type": "markdown",
      "metadata": {},
      "source": [
        "<br>\n",
        "\n",
        "### <데이터 전처리>\n",
        "\n",
        "-   연도별로 분리\n"
      ],
      "id": "bc0f755d"
    },
    {
      "cell_type": "code",
      "metadata": {},
      "source": [
        "data_2020 = df[['항목'] + df.filter(like='2020').columns.tolist()]\n",
        "\n",
        "data_2021 = df[['항목'] + df.filter(like='2021').columns.tolist()]\n",
        "\n",
        "data_2022 = df[['항목'] + df.filter(like='2022').columns.tolist()]\n",
        "\n",
        "data_2022.head()"
      ],
      "id": "add14bea",
      "execution_count": null,
      "outputs": []
    },
    {
      "cell_type": "markdown",
      "metadata": {},
      "source": [
        "<br>\n",
        "\n",
        "-   2022년의 제품결함 열 삭제\n"
      ],
      "id": "73bfb0c2"
    },
    {
      "cell_type": "code",
      "metadata": {},
      "source": [
        "data_2022 = data_2022.drop(columns = \"2022.11\")\n",
        "data_2022.head()"
      ],
      "id": "40c1aa69",
      "execution_count": null,
      "outputs": []
    },
    {
      "cell_type": "markdown",
      "metadata": {},
      "source": [
        "<br>\n",
        "\n",
        "-   0번째 행을 column으로 지정\n"
      ],
      "id": "55246fea"
    },
    {
      "cell_type": "code",
      "metadata": {},
      "source": [
        "data_2020.columns = data_2020.iloc[0] \n",
        "\n",
        "data_2021.columns = data_2021.iloc[0] \n",
        "\n",
        "data_2022.columns = data_2022.iloc[0] \n",
        "\n",
        "data_2022.head()"
      ],
      "id": "ed29604f",
      "execution_count": null,
      "outputs": []
    },
    {
      "cell_type": "markdown",
      "metadata": {},
      "source": [
        "<br>\n",
        "\n",
        "-   0행, 1행 삭제 후 인덱스 초기화\n"
      ],
      "id": "5ada48c5"
    },
    {
      "cell_type": "code",
      "metadata": {},
      "source": [
        "data_2020 = data_2020[2:]\n",
        "data_2020 = data_2020.reset_index(drop=True)\n",
        "\n",
        "data_2021 = data_2021[2:]\n",
        "data_2021 = data_2021.reset_index(drop=True)\n",
        "\n",
        "data_2022 = data_2022[2:]\n",
        "data_2022 = data_2022.reset_index(drop=True)\n",
        "\n",
        "data_2022.head()"
      ],
      "id": "039d0360",
      "execution_count": null,
      "outputs": []
    },
    {
      "cell_type": "markdown",
      "metadata": {},
      "source": [
        "<br>\n",
        "\n",
        "-   데이터타입이 object로 되어 있음\n"
      ],
      "id": "5bf92b5d"
    },
    {
      "cell_type": "code",
      "metadata": {},
      "source": [
        "data_2022.info()"
      ],
      "id": "49d7e43b",
      "execution_count": null,
      "outputs": []
    },
    {
      "cell_type": "markdown",
      "metadata": {},
      "source": [
        "<br>\n",
        "\n",
        "-   for문을 사용해 데이터타입을 int로 변경\n"
      ],
      "id": "7cf4a4bc"
    },
    {
      "cell_type": "code",
      "metadata": {},
      "source": [
        "columns_to_convert = ['계', '전기적요인', '기계적요인',\n",
        "                '화학적요인', '가스누출', '교통사고', '부주의', '기타',\n",
        "                '자연적요인', '방화', '방화의심', '미상']\n",
        "\n",
        "for column in columns_to_convert:\n",
        "    data_2020[column] = pd.to_numeric(data_2020[column])\n",
        "\n",
        "for column in columns_to_convert:\n",
        "    data_2021[column] = pd.to_numeric(data_2021[column])\n",
        "\n",
        "for column in columns_to_convert:\n",
        "    data_2022[column] = pd.to_numeric(data_2022[column])\n",
        "\n",
        "data_2022.info()"
      ],
      "id": "fe6fcf61",
      "execution_count": null,
      "outputs": []
    },
    {
      "cell_type": "markdown",
      "metadata": {},
      "source": [
        "<br>\n",
        "\n",
        "-   계절 파생변수 추가\n",
        "\n",
        "    > 봄: 3월, 4월, 5월<br> 여름: 6월, 7월, 8월<br> 가을: 9월, 10월, 11월<br> 겨울: 12월, 1월, 2월\n"
      ],
      "id": "105766a4"
    },
    {
      "cell_type": "code",
      "metadata": {},
      "source": [
        "data_2020[\"계절\"] = np.where(data_2020[\"항목\"]\\\n",
        "                    .isin([\"3월\", \"4월\", \"5월\"]),\"spring\",\n",
        "                    np.where(data_2020[\"항목\"]\\\n",
        "                    .isin([\"6월\", \"7월\", \"8월\"]),\"summer\",\n",
        "                    np.where(data_2020[\"항목\"]\\\n",
        "                    .isin([\"9월\", \"10월\", \"11월\"]),\"fall\",\"winter\")))\n",
        "\n",
        "data_2021[\"계절\"] = np.where(data_2021[\"항목\"]\\\n",
        "                    .isin([\"3월\", \"4월\", \"5월\"]),\"spring\",\n",
        "                    np.where(data_2021[\"항목\"].\\\n",
        "                    isin([\"6월\", \"7월\", \"8월\"]),\"summer\",\n",
        "                    np.where(data_2021[\"항목\"].\\\n",
        "                    isin([\"9월\", \"10월\", \"11월\"]),\"fall\",\"winter\")))\n",
        "\n",
        "data_2022[\"계절\"] = np.where(data_2022[\"항목\"]\\\n",
        "                    .isin([\"3월\", \"4월\", \"5월\"]),\"spring\",\n",
        "                    np.where(data_2022[\"항목\"]\\\n",
        "                    .isin([\"6월\", \"7월\", \"8월\"]),\"summer\",\n",
        "                    np.where(data_2022[\"항목\"]\\\n",
        "                    .isin([\"9월\", \"10월\", \"11월\"]),\"fall\",\"winter\")))\n",
        "\n",
        "data_2022.head()"
      ],
      "id": "9b84650d",
      "execution_count": null,
      "outputs": []
    },
    {
      "cell_type": "markdown",
      "metadata": {},
      "source": [
        "<br>\n",
        "\n",
        "-   계절별 화재 횟수 데이터프레임 생성\n"
      ],
      "id": "c34bca7c"
    },
    {
      "cell_type": "code",
      "metadata": {},
      "source": [
        "season_20 = data_2020.groupby('계절').agg(sum2020=('계','sum'))\n",
        "\n",
        "season_21 = data_2021.groupby('계절').agg(sum2021=('계','sum'))\n",
        "\n",
        "season_22 = data_2022.groupby('계절').agg(sum2022=('계','sum'))\n",
        "\n",
        "season_22"
      ],
      "id": "2d16ad7d",
      "execution_count": null,
      "outputs": []
    },
    {
      "cell_type": "markdown",
      "metadata": {},
      "source": [
        "<br>\n",
        "\n",
        "-   각 데이터를 열로 병합\n"
      ],
      "id": "eba159fc"
    },
    {
      "cell_type": "code",
      "metadata": {},
      "source": [
        "season = pd.concat([season_20,season_21,season_22], axis=1)\n",
        "season"
      ],
      "id": "63987256",
      "execution_count": null,
      "outputs": []
    },
    {
      "cell_type": "markdown",
      "metadata": {},
      "source": [
        "<br>\n",
        "\n",
        "-   계절 순서를 '봄', '여름', '가을', '겨울'로 정렬\n"
      ],
      "id": "c9d1e017"
    },
    {
      "cell_type": "code",
      "metadata": {},
      "source": [
        "season = season.loc[['spring', 'summer', 'fall', 'winter']]\n",
        "season"
      ],
      "id": "c1c3be69",
      "execution_count": null,
      "outputs": []
    },
    {
      "cell_type": "markdown",
      "metadata": {},
      "source": [
        "<br>\n",
        "\n",
        "### <데이터 시각화>\n",
        "\n",
        "-   계절별 화재발생 선 그래프 생성\n"
      ],
      "id": "54603172"
    },
    {
      "cell_type": "code",
      "metadata": {},
      "source": [
        "import matplotlib.pyplot as plt\n",
        "\n",
        "plt.figure(figsize=(6, 6))\n",
        "plt.plot(season.index, season['sum2020'], marker='o', label='2020')\n",
        "plt.plot(season.index, season['sum2021'], marker='o', label='2021')\n",
        "plt.plot(season.index, season['sum2022'], marker='o', label='2022')\n",
        "\n",
        "plt.legend()\n",
        "plt.grid(True)\n",
        "plt.show()\n",
        "plt.clf()"
      ],
      "id": "49d2ec44",
      "execution_count": null,
      "outputs": []
    },
    {
      "cell_type": "markdown",
      "metadata": {},
      "source": [
        "<br>\n",
        "\n",
        "### <결과 >\n",
        "\n",
        "> 2020년, 2021년, 2022년 모두 여름과 가을에 비해<br>**봄**과 **겨울**에 화재 발생 빈도가 높게 나타남\n",
        "\n",
        "## 요인별 화재발생 빈도\n",
        "\n",
        "## 요인별 인명피해\n",
        "\n",
        "### <데이터 설명>\n"
      ],
      "id": "c17ed234"
    },
    {
      "cell_type": "code",
      "metadata": {},
      "source": [
        "damage = pd.read_csv(\"data/human_damage.csv\")\n",
        "damage"
      ],
      "id": "e142649a",
      "execution_count": null,
      "outputs": []
    },
    {
      "cell_type": "markdown",
      "metadata": {},
      "source": [
        "<br>\n",
        "\n",
        "### <데이터 전처리>\n",
        "\n",
        "-   연도별로 분리\n"
      ],
      "id": "fcf1694f"
    },
    {
      "cell_type": "code",
      "metadata": {
        "md-indent": "    "
      },
      "source": [
        "damage_20 = damage[['항목'] + damage.filter(like='2020').columns.tolist()]\n",
        "damage_21 = damage[['항목'] + damage.filter(like='2021').columns.tolist()]\n",
        "damage_22 = damage[['항목'] + damage.filter(like='2022').columns.tolist()]\n",
        "\n",
        "damage_20\n",
        "damage_21\n",
        "damage_22"
      ],
      "id": "6a051743",
      "execution_count": null,
      "outputs": []
    },
    {
      "cell_type": "markdown",
      "metadata": {},
      "source": [
        "    <br>\n",
        "\n",
        "-   행 올리기 (반복되는 기존 열 삭제 및 첫번째 행 올리기)\n"
      ],
      "id": "6442bd32"
    },
    {
      "cell_type": "code",
      "metadata": {},
      "source": [
        "damage_20.columns = damage_20.iloc[0]\n",
        "damage_20 = damage_20[1:3]\n",
        "damage_20 = damage_20.reset_index(drop=True)\n",
        "damage_20 = damage_20.drop(columns=['항목','계'])\n",
        "\n",
        "damage_21.columns = damage_21.iloc[0]\n",
        "damage_21 = damage_21[1:3]\n",
        "damage_21 = damage_21.reset_index(drop=True)\n",
        "damage_21 = damage_21.drop(columns=['항목','계'])\n",
        "\n",
        "damage_22.columns = damage_22.iloc[0]\n",
        "damage_22 = damage_22[1:3]\n",
        "damage_22 = damage_22.reset_index(drop=True)\n",
        "damage_22 = damage_22.drop(columns=['항목', '계', '제품결함'])"
      ],
      "id": "d786480e",
      "execution_count": null,
      "outputs": []
    },
    {
      "cell_type": "markdown",
      "metadata": {},
      "source": [
        "<br>\n",
        "\n",
        "-   행열 전환\n"
      ],
      "id": "e0bc5711"
    },
    {
      "cell_type": "code",
      "metadata": {},
      "source": [
        "damage_20 = damage_20.transpose()\n",
        "damage_20 \n",
        "damage_21 = damage_21.transpose()\n",
        "damage_21\n",
        "damage_22 = damage_22.transpose()\n",
        "damage_22"
      ],
      "id": "5f7d08f2",
      "execution_count": null,
      "outputs": []
    },
    {
      "cell_type": "markdown",
      "metadata": {},
      "source": [
        "<br>\n",
        "\n",
        "-   통합 3년 전체 데이터 만들기 ( 데이터 합치기 )\n"
      ],
      "id": "f5515717"
    },
    {
      "cell_type": "code",
      "metadata": {
        "md-indent": "    "
      },
      "source": [
        "damage_total = pd.concat([damage_20, damage_21[1], damage_22[1]], axis=1)\n",
        "damage_total\n",
        "damage_total = damage_total.drop(0, axis=1)"
      ],
      "id": "1fa7408c",
      "execution_count": null,
      "outputs": []
    },
    {
      "cell_type": "markdown",
      "metadata": {},
      "source": [
        "    <br>\n",
        "\n",
        "-   계산 가능한 숫자형 데이터로 전환하기\n"
      ],
      "id": "98972ec8"
    },
    {
      "cell_type": "code",
      "metadata": {
        "md-indent": "    "
      },
      "source": [
        "damage_total=damage_total.astype(int)\n",
        "damage_total.info()"
      ],
      "id": "7332aaaf",
      "execution_count": null,
      "outputs": []
    },
    {
      "cell_type": "markdown",
      "metadata": {},
      "source": [
        "    <br>\n",
        "\n",
        "-   사망 / 부상 데이터끼리 분류하기\n"
      ],
      "id": "510d8dd9"
    },
    {
      "cell_type": "code",
      "metadata": {
        "md-indent": "    "
      },
      "source": [
        "death = damage_total.iloc[::2]\n",
        "death\n",
        "injury = damage_total.iloc[1::2]\n",
        "injury"
      ],
      "id": "97a95b33",
      "execution_count": null,
      "outputs": []
    },
    {
      "cell_type": "markdown",
      "metadata": {},
      "source": [
        "    <br>\n",
        "\n",
        "-   사망,부상별 합계 ,평균 변수 및 백분율 변수 추가하기\n"
      ],
      "id": "06982e3d"
    },
    {
      "cell_type": "code",
      "metadata": {
        "md-indent": "    "
      },
      "source": [
        "# 합계 변수 / 평균 변수 / 백분율 추가하기\n",
        "death_all = death.assign(total = death.sum(axis = 1),\n",
        "                     mean = lambda x : x[\"total\"] / 3 ,\n",
        "                     ratio = lambda x : (x[\"mean\"] / data_all[\"total\"]) * 100)\n",
        "         \n",
        "death_all\n",
        "\n",
        "injury_all = injury.assign(total = injury.sum(axis = 1),\n",
        "                     mean = lambda x : x[\"total\"] / 3,\n",
        "                     ratio = lambda x : (x[\"mean\"] / data_all[\"total\"]) * 100)\n",
        "         \n",
        "injury_all\n"
      ],
      "id": "95db6083",
      "execution_count": null,
      "outputs": []
    },
    {
      "cell_type": "markdown",
      "metadata": {},
      "source": [
        "### <데이터 시각화>\n",
        "\n",
        "-   총 화재 발생 대비 사망률/ 부상률 막대 그래프 생성\n"
      ],
      "id": "84473f4f"
    },
    {
      "cell_type": "code",
      "metadata": {
        "md-indent": "    "
      },
      "source": [
        "death_all[\"ratio\"].plot.bar(rot=0)\n",
        "plt.xticks(fontsize=5, rotation=20)\n",
        "plt.show()\n",
        "plt.clf()\n",
        "\n",
        "injury_all[\"ratio\"].plot.bar(rot=0)\n",
        "plt.xticks(fontsize=5, rotation=20)\n",
        "plt.show()\n",
        "plt.clf()"
      ],
      "id": "9864d6e5",
      "execution_count": null,
      "outputs": []
    },
    {
      "cell_type": "markdown",
      "metadata": {},
      "source": [
        "### <결과 설명>\n",
        "\n",
        "# \\### <결론>\n",
        "\n",
        "<br>\n",
        "\n",
        "## 요인별 화재발생 빈도\n",
        "\n",
        "### <데이터 전처리>\n",
        "\n",
        "-   다시 한번 데이터 확인해보기\n",
        "\n",
        "<br>\n"
      ],
      "id": "0c4aab8d"
    },
    {
      "cell_type": "code",
      "metadata": {},
      "source": [
        "data_2022.head"
      ],
      "id": "f5215013",
      "execution_count": null,
      "outputs": []
    },
    {
      "cell_type": "markdown",
      "metadata": {},
      "source": [
        "<br>\n",
        "\n",
        "-   데이터 합치기 ('concat' 함수이용)\n"
      ],
      "id": "984fb7fc"
    },
    {
      "cell_type": "code",
      "metadata": {},
      "source": [
        "data_all = pd.concat([data_2020, data_2021,data_2022])\n",
        "data_all"
      ],
      "id": "aa4ff552",
      "execution_count": null,
      "outputs": []
    },
    {
      "cell_type": "markdown",
      "metadata": {},
      "source": [
        "<br>\n",
        "\n",
        "-   필요없는 열 제거\n"
      ],
      "id": "6f9d934e"
    },
    {
      "cell_type": "code",
      "metadata": {},
      "source": [
        "data_all = data_all.drop(columns=['계'])\n",
        "data_all.head(3)"
      ],
      "id": "be1ef549",
      "execution_count": null,
      "outputs": []
    },
    {
      "cell_type": "markdown",
      "metadata": {},
      "source": [
        "<br>\n",
        "\n",
        "-   요인별 평균 내기\n"
      ],
      "id": "219a9a2b"
    },
    {
      "cell_type": "code",
      "metadata": {},
      "source": [
        "# 행과 열 바꿔줌\n",
        "data_all = data_all.transpose()\n",
        "data_all.head()"
      ],
      "id": "7aa13dd3",
      "execution_count": null,
      "outputs": []
    },
    {
      "cell_type": "code",
      "metadata": {},
      "source": [
        "# 필요없는 열 제거\n",
        "data_all = data_all.drop(\"항목\", axis=0)\n",
        "data_all = data_all.drop(\"계절\", axis=0)\n",
        "data_all.head()"
      ],
      "id": "379c6e76",
      "execution_count": null,
      "outputs": []
    },
    {
      "cell_type": "code",
      "metadata": {},
      "source": [
        "# 데이터타입 변경\n",
        "data_all.info()\n",
        "data_all=data_all.astype(int)"
      ],
      "id": "01b67981",
      "execution_count": null,
      "outputs": []
    },
    {
      "cell_type": "markdown",
      "metadata": {},
      "source": [
        "<br>\n",
        "\n",
        "-   1년동안 일어나는 요인별 화재건수를 'total'열 생성(3년 평균)\n"
      ],
      "id": "64990efc"
    },
    {
      "cell_type": "code",
      "metadata": {},
      "source": [
        "data_all[\"total\"] = data_all.sum(axis=1)/3\n",
        "data_all.head()"
      ],
      "id": "b9b1afd2",
      "execution_count": null,
      "outputs": []
    },
    {
      "cell_type": "code",
      "metadata": {},
      "source": [
        "## 한글\n",
        "from matplotlib import font_manager, rc\n",
        "\n",
        "# 한글 폰트 설정\n",
        "font_path = \"C:/Windows/Fonts/malgun.ttf\"  # 예시: 윈도우 시스템에 있는 맑은 고딕 폰트 경로\n",
        "font_name = font_manager.FontProperties(fname=font_path).get_name()\n",
        "rc('font', family=font_name)"
      ],
      "id": "4fff71cc",
      "execution_count": null,
      "outputs": []
    },
    {
      "cell_type": "markdown",
      "metadata": {},
      "source": [
        "### <데이터 시각화>\n",
        "\n",
        "-   요인별 화재건수\n"
      ],
      "id": "78783d37"
    },
    {
      "cell_type": "code",
      "metadata": {},
      "source": [
        "data_all[\"total\"].plot.bar(rot=0)\n",
        "plt.xticks(fontsize=7, rotation=45)\n",
        "plt.show()\n",
        "plt.clf()"
      ],
      "id": "df04b075",
      "execution_count": null,
      "outputs": []
    },
    {
      "cell_type": "markdown",
      "metadata": {},
      "source": [
        "<br>\n",
        "\n",
        "### <결과>\n",
        "\n",
        "> 3년간 화재발생 요인의 평균을 분석했을 때 **부주의**가 가장 높게 나타남"
      ],
      "id": "73f21f43"
    }
  ],
  "metadata": {
    "kernelspec": {
      "name": "python3",
      "language": "python",
      "display_name": "Python 3 (ipykernel)"
    }
  },
  "nbformat": 4,
  "nbformat_minor": 5
}